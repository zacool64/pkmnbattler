{
 "cells": [
  {
   "cell_type": "code",
   "execution_count": 9,
   "metadata": {
    "collapsed": true
   },
   "outputs": [],
   "source": [
    "from selenium import webdriver\n",
    "from selenium.webdriver.common.action_chains import ActionChains\n",
    "\n",
    "import time, random"
   ]
  },
  {
   "cell_type": "code",
   "execution_count": 10,
   "metadata": {
    "collapsed": true
   },
   "outputs": [],
   "source": [
    "def checkUsable(move):\n",
    "    return not (\"0\" in move.text)\n",
    "def wait():\n",
    "    try:\n",
    "        return driver.find_element_by_name(\"chooseMove\").is_displayed()\n",
    "    except:\n",
    "        return False\n",
    "def wait1():\n",
    "    try:\n",
    "        return driver.find_element_by_name(\"chooseSwitch\").is_displayed()\n",
    "    except:\n",
    "        return False\n",
    "def canSkip():\n",
    "    try:\n",
    "        return driver.find_element_by_name(\"goToEnd\").is_displayed()\n",
    "    except:\n",
    "        return False\n",
    "def getswitches():\n",
    "    try:\n",
    "        return driver.find_elements_by_name(\"chooseSwitch\")\n",
    "    except:\n",
    "        return []\n",
    "def getmoves():\n",
    "    try:\n",
    "        return driver.find_elements_by_name(\"chooseMove\")\n",
    "    except:\n",
    "        return []\n",
    "def gameNotOver():\n",
    "    try:\n",
    "        return not (driver.find_element_by_name(\"closeAndRematch\").is_displayed())\n",
    "    except:\n",
    "        return True\n",
    "def timerOn():\n",
    "    try:\n",
    "        return driver.find_element_by_name(\"openTimer\").is_displayed()\n",
    "    except:\n",
    "        return False"
   ]
  },
  {
   "cell_type": "code",
   "execution_count": 12,
   "metadata": {},
   "outputs": [],
   "source": [
    "\"\"\"sets up a battle with a random name with a specific user\"\"\"\n",
    "\n",
    "chrome_path= r\"./chromedriver\"\n",
    "driver = webdriver.Chrome(chrome_path)\n",
    "driver.get(\"https://play.pokemonshowdown.com/\")\n",
    "time.sleep(4)\n",
    "driver.find_element_by_xpath(\"\"\"//*[@id=\"room-\"]/div/div[1]/div[2]/div[1]/form/p[3]/button\"\"\").click()\n",
    "time.sleep(0.5)\n",
    "usernameinput = driver.find_element_by_xpath(\"\"\"/html/body/div[4]/div/form/p[1]/label/input\"\"\")\n",
    "time.sleep(1)\n",
    "name1 = 'testing34234'+ str(random.randint(1,1000))\n",
    "usernameinput.send_keys(name1)\n",
    "time.sleep(0.5)\n",
    "driver.find_element_by_xpath(\"\"\"/html/body/div[4]/div/form/p[2]/button[1]\"\"\").click()\n",
    "\n",
    "\"\"\"playing with random player\"\"\"\n",
    "time.sleep(2)\n",
    "driver.find_element_by_xpath(\"\"\"//*[@id=\"room-\"]/div/div[1]/div[2]/div[1]/form/p[3]/button\"\"\").click()\n",
    "\n",
    "\n",
    "\"\"\"for playing with an specific username to battle \"\"\"\n",
    "##driver.find_element_by_xpath(\"\"\"//*[@id=\"room-\"]/div/div[1]/div[2]/div[3]/p[2]/button\"\"\").click()\n",
    "##opp = driver.find_element_by_xpath(\"\"\"/html/body/div[4]/form/p[1]/label/input\"\"\")\n",
    "##opp.send_keys(\"818hm\")\n",
    "##time.sleep(0.5)\n",
    "##driver.find_element_by_xpath(\"\"\"/html/body/div[4]/form/p[2]/button[1]\"\"\").click()\n",
    "\n",
    "##time.sleep(4)\n",
    "##driver.find_element_by_xpath(\"\"\"/html/body/div[4]/div/p/button[1]\"\"\").click()\n",
    "##driver.find_element_by_xpath(\"\"\"//*[@id=\"room-\"]/div/div[1]/div[1]/div/div[1]/div[1]/form/p[4]/button[1]\"\"\").click()\n",
    "\n",
    "\n",
    "\"\"\"mutes the game\"\"\"\n",
    "time.sleep(10)\n",
    "driver.find_element_by_xpath(\"\"\"//*[@id=\"header\"]/div[3]/button[1]/i\"\"\").click()\n",
    "time.sleep(0.5)\n",
    "driver.find_element_by_name(\"muted\").click()\n",
    "time.sleep(0.5)\n",
    "driver.find_element_by_xpath(\"\"\"//*[@id=\"header\"]/div[3]/button[1]/i\"\"\").click()\n",
    "\"\"\"starts timer\"\"\"\n",
    "\n",
    "if (timerOn()):\n",
    "    time.sleep(0.5)\n",
    "    driver.find_element_by_name(\"openTimer\").click()\n",
    "    driver.find_element_by_name(\"timerOn\").click()\n",
    "\n",
    "while gameNotOver():\n",
    "    time.sleep(1)\n",
    "    if canSkip():\n",
    "        driver.find_element_by_name(\"goToEnd\").click()\n",
    "    available_p = getswitches()\n",
    "    available_m = getmoves()\n",
    "    possibles = available_m + available_p\n",
    "    if (len(possibles) == 0):\n",
    "        continue\n",
    "    i = random.randint(0, len(possibles) - 1)\n",
    "    possibles[i].click()\n",
    "    while ((not (wait() or wait1())) and gameNotOver()):\n",
    "        time.sleep(2)\n"
   ]
  },
  {
   "cell_type": "code",
   "execution_count": 60,
   "metadata": {},
   "outputs": [
    {
     "data": {
      "text/plain": [
       "'Furret L83\\nHP: 100.0% (277/277)\\nAbility: Frisk / Item: Choice Band\\n174 Atk / 154 Def / 122 SpA / 139 SpD / 197 Spe\\n• Aqua Tail\\n• Fire Punch\\n• U-turn\\n• Double-Edge'"
      ]
     },
     "execution_count": 60,
     "metadata": {},
     "output_type": "execute_result"
    }
   ],
   "source": [
    "p = driver.find_element_by_class_name(\"lstatbar\")\n",
    "available_p = getswitches()\n",
    "hover = ActionChains(driver).move_to_element(available_p[0])\n",
    "hover.perform()\n",
    "a = driver.find_element_by_class_name(\"tooltip\")\n",
    "b = driver.find_element_by_class_name(\"section\")\n",
    "a.text"
   ]
  },
  {
   "cell_type": "code",
   "execution_count": 61,
   "metadata": {},
   "outputs": [
    {
     "data": {
      "text/plain": [
       "'• Aqua Tail\\n• Fire Punch\\n• U-turn\\n• Double-Edge'"
      ]
     },
     "execution_count": 61,
     "metadata": {},
     "output_type": "execute_result"
    }
   ],
   "source": []
  },
  {
   "cell_type": "code",
   "execution_count": null,
   "metadata": {
    "collapsed": true
   },
   "outputs": [],
   "source": []
  },
  {
   "cell_type": "code",
   "execution_count": null,
   "metadata": {
    "collapsed": true
   },
   "outputs": [],
   "source": []
  },
  {
   "cell_type": "code",
   "execution_count": null,
   "metadata": {
    "collapsed": true
   },
   "outputs": [],
   "source": []
  },
  {
   "cell_type": "code",
   "execution_count": null,
   "metadata": {
    "collapsed": true
   },
   "outputs": [],
   "source": []
  },
  {
   "cell_type": "code",
   "execution_count": null,
   "metadata": {
    "collapsed": true
   },
   "outputs": [],
   "source": []
  },
  {
   "cell_type": "code",
   "execution_count": null,
   "metadata": {
    "collapsed": true
   },
   "outputs": [],
   "source": []
  },
  {
   "cell_type": "code",
   "execution_count": null,
   "metadata": {
    "collapsed": true
   },
   "outputs": [],
   "source": []
  }
 ],
 "metadata": {
  "kernelspec": {
   "display_name": "Python 3",
   "language": "python",
   "name": "python3"
  },
  "language_info": {
   "codemirror_mode": {
    "name": "ipython",
    "version": 3
   },
   "file_extension": ".py",
   "mimetype": "text/x-python",
   "name": "python",
   "nbconvert_exporter": "python",
   "pygments_lexer": "ipython3",
   "version": "3.6.3"
  }
 },
 "nbformat": 4,
 "nbformat_minor": 2
}
