{
 "cells": [
  {
   "cell_type": "code",
   "execution_count": 120,
   "metadata": {},
   "outputs": [],
   "source": [
    "import time, random, os\n",
    "from selenium import webdriver\n",
    "from selenium.webdriver.common.action_chains import ActionChains\n",
    "from selenium.webdriver.chrome.options import Options\n",
    "from selenium.webdriver.common.desired_capabilities import DesiredCapabilities"
   ]
  },
  {
   "cell_type": "code",
   "execution_count": 45,
   "metadata": {},
   "outputs": [],
   "source": [
    "def checkUsable(move):\n",
    "    return not (\"0\" in move.text)\n",
    "def wait():\n",
    "    try:\n",
    "        return driver.find_element_by_name(\"chooseMove\").is_displayed()\n",
    "    except:\n",
    "        return False\n",
    "def wait1():\n",
    "    try:\n",
    "        return driver.find_element_by_name(\"chooseSwitch\").is_displayed()\n",
    "    except:\n",
    "        return False\n",
    "def canSkip():\n",
    "    try:\n",
    "        return driver.find_element_by_name(\"goToEnd\").is_displayed()\n",
    "    except:\n",
    "        return False\n",
    "def getswitches():\n",
    "    try:\n",
    "        return driver.find_elements_by_name(\"chooseSwitch\")\n",
    "    except:\n",
    "        return []\n",
    "def getcurr():\n",
    "    try:\n",
    "        return driver.find_elements_by_name(\"chooseDisabled\")\n",
    "    except:\n",
    "        return []\n",
    "def getmoves():\n",
    "    try:\n",
    "        return driver.find_elements_by_name(\"chooseMove\")\n",
    "    except:\n",
    "        return []\n",
    "def gameNotOver():\n",
    "    try:\n",
    "        return not (driver.find_element_by_name(\"closeAndRematch\").is_displayed())\n",
    "    except:\n",
    "        return True\n",
    "def timerOn():\n",
    "    try:\n",
    "        return driver.find_element_by_name(\"openTimer\").is_displayed()\n",
    "    except:\n",
    "        return False\n",
    "def checkOurSub():\n",
    "    try:\n",
    "        xroom = \"//*[@id='\" + room\n",
    "        our_sub_xpath = xroom + \"']/div[1]/div/div[5]/div[3]/img[1]\"\n",
    "        return driver.find_element_by_xpath(our_sub_xpath).is_displayed()\n",
    "    except:\n",
    "        return False\n",
    "def getExtensionInfo():\n",
    "    xroom = \"//*[@id='\" + room\n",
    "    extension_infos = []\n",
    "    for j in range(2,6):\n",
    "        extension_xpath = xroom + \"']/div[1]/div/div[9]/div/strong[\"+ str(j) + \"]\"\n",
    "        toolbar = driver.find_element_by_xpath(extension_xpath)\n",
    "        hover = ActionChains(driver).move_to_element(toolbar)\n",
    "        hover.perform()\n",
    "        extension_info = driver.find_element_by_class_name(\"tooltip\").text\n",
    "        extension_infos.append(extension_info)\n",
    "    "
   ]
  },
  {
   "cell_type": "code",
   "execution_count": 188,
   "metadata": {},
   "outputs": [
    {
     "data": {
      "text/plain": [
       "'\\nwhile gameNotOver():\\n    time.sleep(1)\\n    if canSkip():\\n        driver.find_element_by_name(\"goToEnd\").click()\\n    available_p = getswitches()\\n    available_m = getmoves()\\n    possibles = available_m + available_p\\n    if (len(possibles) == 0):\\n        continue\\n    i = random.randint(0, len(possibles) - 1)\\n    possibles[i].click()\\n    while ((not (wait() or wait1())) and gameNotOver()):\\n        time.sleep(2)\\n'"
      ]
     },
     "execution_count": 188,
     "metadata": {},
     "output_type": "execute_result"
    }
   ],
   "source": [
    "\"\"\"initialize driver with the pokemon extension\"\"\"\n",
    "chrome_path= r\"./chromedriver\"\n",
    "options = Options()\n",
    "options.add_extension(\"./Pokemon-Showdown-Random-Battle-Tooltip_v2.2.crx\")\n",
    "driver = webdriver.Chrome(executable_path=chrome_path, chrome_options = options)\n",
    "\n",
    "\n",
    "driver.get(\"https://play.pokemonshowdown.com/\")\n",
    "time.sleep(4)\n",
    "driver.find_element_by_xpath(\"\"\"//*[@id=\"room-\"]/div/div[1]/div[2]/div[1]/form/p[3]/button\"\"\").click()\n",
    "time.sleep(0.5)\n",
    "usernameinput = driver.find_element_by_xpath(\"\"\"/html/body/div[4]/div/form/p[1]/label/input\"\"\")\n",
    "time.sleep(1)\n",
    "name1 = 'testing34234'+ str(random.randint(1,1000))\n",
    "usernameinput.send_keys(name1)\n",
    "time.sleep(0.5)\n",
    "driver.find_element_by_xpath(\"\"\"/html/body/div[4]/div/form/p[2]/button[1]\"\"\").click()\n",
    "\n",
    "\"\"\"playing with random player\"\"\"\n",
    "#time.sleep(2)\n",
    "#driver.find_element_by_xpath(\"\"\"//*[@id=\"room-\"]/div/div[1]/div[2]/div[1]/form/p[3]/button\"\"\").click()\n",
    "\n",
    "\n",
    "\"\"\"for playing with an specific username to battle \"\"\"\n",
    "driver.find_element_by_xpath(\"\"\"//*[@id=\"room-\"]/div/div[1]/div[2]/div[3]/p[2]/button\"\"\").click()\n",
    "opp = driver.find_element_by_xpath(\"\"\"/html/body/div[4]/form/p[1]/label/input\"\"\")\n",
    "opp.send_keys(\"818hm\")\n",
    "time.sleep(0.5)\n",
    "driver.find_element_by_xpath(\"\"\"/html/body/div[4]/form/p[2]/button[1]\"\"\").click()\n",
    "time.sleep(4)\n",
    "driver.find_element_by_xpath(\"\"\"/html/body/div[4]/div/p/button[1]\"\"\").click()\n",
    "driver.find_element_by_xpath(\"\"\"//*[@id=\"room-\"]/div/div[1]/div[1]/div/div[1]/div[1]/form/p[4]/button[1]\"\"\").click()\n",
    "\n",
    "\n",
    "\"\"\"mutes the game\"\"\"\n",
    "time.sleep(10)\n",
    "driver.find_element_by_xpath(\"\"\"//*[@id=\"header\"]/div[3]/button[1]/i\"\"\").click()\n",
    "time.sleep(0.5)\n",
    "driver.find_element_by_name(\"muted\").click()\n",
    "time.sleep(0.5)\n",
    "driver.find_element_by_xpath(\"\"\"//*[@id=\"header\"]/div[3]/button[1]/i\"\"\").click()\n",
    "\"\"\"starts timer\"\"\"\n",
    "\n",
    "#if (timerOn()):\n",
    "#    time.sleep(0.5)\n",
    "#    driver.find_element_by_name(\"openTimer\").click()\n",
    "#    driver.find_element_by_name(\"timerOn\").click()\n",
    "\n",
    "room = driver.find_element_by_class_name(\"ps-room-opaque\").get_attribute(\"id\")\n",
    "\"\"\"\n",
    "while gameNotOver():\n",
    "    time.sleep(1)\n",
    "    if canSkip():\n",
    "        driver.find_element_by_name(\"goToEnd\").click()\n",
    "    available_p = getswitches()\n",
    "    available_m = getmoves()\n",
    "    possibles = available_m + available_p\n",
    "    if (len(possibles) == 0):\n",
    "        continue\n",
    "    i = random.randint(0, len(possibles) - 1)\n",
    "    possibles[i].click()\n",
    "    while ((not (wait() or wait1())) and gameNotOver()):\n",
    "        time.sleep(2)\n",
    "\"\"\""
   ]
  },
  {
   "cell_type": "code",
   "execution_count": 210,
   "metadata": {},
   "outputs": [],
   "source": [
    "room = driver.find_element_by_class_name(\"ps-room-opaque\").get_attribute(\"id\")\n",
    "p = driver.find_element_by_class_name(\"lstatbar\")\n",
    "available_p = getswitches()\n",
    "curr_p = getcurr()\n",
    "all_p = curr_p + available_p\n",
    "our_p_info = []\n",
    "\"\"\"hover over enemy pokemon and collect info from the popup\"\"\"\n",
    "s = \"//*[@id='\" + room +\"']/div[2]/div[3]\"\n",
    "curr_em = driver.find_element_by_xpath(s)\n",
    "hover = ActionChains(driver).move_to_element(curr_em)\n",
    "hover.perform()\n",
    "opp_p_info = driver.find_element_by_class_name(\"tooltip\")\n",
    "for i in range(len(all_p)):\n",
    "    hover = ActionChains(driver).move_to_element(all_p[i])\n",
    "    hover.perform()\n",
    "    a = driver.find_element_by_class_name(\"tooltip\")\n",
    "    our_p_info.append(a.text)\n"
   ]
  },
  {
   "cell_type": "code",
   "execution_count": 37,
   "metadata": {},
   "outputs": [
    {
     "name": "stdout",
     "output_type": "stream",
     "text": [
      "//*[@id='room-battle-gen7randombattle-761280060']/div[2]/div[3]\n"
     ]
    }
   ],
   "source": [
    "\"\"\"\n",
    "room = driver.find_element_by_class_name(\"ps-room-opaque\").get_attribute(\"id\")\n",
    "s = \"//*[@id='\" + room +\"']/div[2]/div[3]\"\n",
    "\"\"\""
   ]
  },
  {
   "cell_type": "code",
   "execution_count": 46,
   "metadata": {},
   "outputs": [
    {
     "data": {
      "text/plain": [
       "'Luxray L83\\nHP: 100%\\nPossible abilities: Rivalry, Intimidate, Guts\\n121 to 164 Spe (before items/abilities/modifiers)'"
      ]
     },
     "execution_count": 46,
     "metadata": {},
     "output_type": "execute_result"
    }
   ],
   "source": [
    "\"\"\"hover over enemy pokemon and collect info from the popup\"\"\"\n",
    "s = \"//*[@id='\" + room +\"']/div[2]/div[3]\"\n",
    "curr_em = driver.find_element_by_xpath(s)\n",
    "hover = ActionChains(driver).move_to_element(curr_em)\n",
    "hover.perform()\n",
    "opp_pk_info = driver.find_element_by_class_name(\"tooltip\")"
   ]
  },
  {
   "cell_type": "code",
   "execution_count": 36,
   "metadata": {},
   "outputs": [],
   "source": [
    "xroom = \"//*[@id='\" + room"
   ]
  },
  {
   "cell_type": "code",
   "execution_count": 205,
   "metadata": {},
   "outputs": [
    {
     "name": "stdout",
     "output_type": "stream",
     "text": [
      "hp: 294\n",
      "atk: 86\n",
      "def: 117\n",
      "spa: 240\n",
      "spd: 246\n",
      "spe: 203\n",
      "Stealth Rock: 80%\n",
      "Acid Spray: 80%\n",
      "Power Gem: 80%\n",
      "Toxic Spikes: 80%\n",
      "Sludge Wave: 80%\n",
      "Air Balloon: 100%\n",
      "Beast Boost: 100%\n"
     ]
    }
   ],
   "source": [
    "\"\"\"use this to help concatenate your xpath\"\"\"\n",
    "xroom = \"//*[@id='\" + room\n",
    "\n",
    "extension_infos = []\n",
    "for j in range(2,6):\n",
    "    extension_xpath = xroom + \"']/div[1]/div/div[9]/div/strong[\"+ str(j) + \"]\"\n",
    "    toolbar = driver.find_element_by_xpath(extension_xpath)\n",
    "    hover = ActionChains(driver).move_to_element(toolbar)\n",
    "    hover.perform()\n",
    "    extension_info = driver.find_element_by_class_name(\"tooltip\").text\n",
    "    print(extension_info)\n",
    "    extension_infos.append(extension_info)\n"
   ]
  },
  {
   "cell_type": "code",
   "execution_count": 209,
   "metadata": {},
   "outputs": [
    {
     "data": {
      "text/plain": [
       "'hp: 294\\natk: 86\\ndef: 117\\nspa: 240\\nspd: 246\\nspe: 203'"
      ]
     },
     "execution_count": 209,
     "metadata": {},
     "output_type": "execute_result"
    }
   ],
   "source": [
    "\"\"\"order of the data will be our pokemon in order of the bottom switch bar left to right\"\"\"\n",
    "our_p_info\n",
    "\n",
    "\"\"\"curr enemy pokemon\"\"\"\n",
    "opp_p_info\n",
    "\n",
    "\"\"\"extension infor will be inorder of stats, moveset, item, ability\"\"\"\n",
    "extension_infos\n"
   ]
  },
  {
   "cell_type": "code",
   "execution_count": null,
   "metadata": {},
   "outputs": [],
   "source": []
  }
 ],
 "metadata": {
  "kernelspec": {
   "display_name": "Python 3",
   "language": "python",
   "name": "python3"
  },
  "language_info": {
   "codemirror_mode": {
    "name": "ipython",
    "version": 3
   },
   "file_extension": ".py",
   "mimetype": "text/x-python",
   "name": "python",
   "nbconvert_exporter": "python",
   "pygments_lexer": "ipython3",
   "version": "3.6.5"
  }
 },
 "nbformat": 4,
 "nbformat_minor": 2
}
