{
 "cells": [
  {
   "cell_type": "code",
   "execution_count": null,
   "metadata": {
    "collapsed": true
   },
   "outputs": [],
   "source": [
    "from selenium import webdriver\n",
    "from selenium.webdriver.common.action_chains import ActionChains\n",
    "\n",
    "import time, random"
   ]
  },
  {
   "cell_type": "code",
   "execution_count": null,
   "metadata": {
    "collapsed": true
   },
   "outputs": [],
   "source": [
    "def stat_calculations(lv, base, evs, ivs, Nature = [1, 1, 1, 1, 1, 1]):\n",
    "    results = []\n",
    "    results.append(((2 * base[0] + ivs[0] + evs[0]//4) * lv)//100 + lv + 10)\n",
    "    for i in range(1,6):\n",
    "        results.append((((2*base[i] + ivs[i] + evs[i]//4) * lv)//100 + 5) * Nature[i] // 1)\n",
    "    return results"
   ]
  },
  {
   "cell_type": "code",
   "execution_count": null,
   "metadata": {
    "collapsed": true
   },
   "outputs": [],
   "source": [
    "def evs_from_stats(lv, base, stats, ivs, Nature = [1, 1, 1, 1, 1, 1]):\n",
    "    results = []\n",
    "    results.append(0)\n",
    "    for i in range(1,6):\n",
    "        results.append(((stats / Nature[i] - 5) * 100 / lv - 2 * base[i] - ivs[i]) * 4)\n",
    "    return results"
   ]
  },
  {
   "cell_type": "code",
   "execution_count": null,
   "metadata": {
    "collapsed": true
   },
   "outputs": [],
   "source": [
    "inputs = {'Name': '',\n",
    "          'Gender': '',\n",
    "          'Level': '',\n",
    "          'Stats': [],\n",
    "          'Boosts': [],\n",
    "          'Ability': '',\n",
    "          'Item': '',\n",
    "          'Status': None,\n",
    "          'CurrHP': '',\n",
    "          'Moveset': [],\n",
    "          \n",
    "          'Rocks': False,\n",
    "          'Spikes': 0,\n",
    "          'ToxicSpikes': False,\n",
    "          'Reflect': False,\n",
    "          'Screen': False,\n",
    "          'Foresight': False,\n",
    "          'Veil' : False,\n",
    "          \n",
    "          'Field_Terrain': None,\n",
    "          'Weather': None,\n",
    "          'Gravity': False,\n",
    "          \n",
    "          'TRocks': False,\n",
    "          'TSpikes': False,\n",
    "          'TToxicSpikes': False,\n",
    "          'TReflect': False,\n",
    "          'TScreen': False,\n",
    "          'TForesight': False,\n",
    "          'TVeil': False,\n",
    "          \n",
    "          'TName': '',\n",
    "          'TGender':'',\n",
    "          'TLevel':'',\n",
    "          'TStats': [],\n",
    "          'TBoosts': [],\n",
    "          'TAbility': '',\n",
    "          'TItem': '',\n",
    "          'TStatus': None,\n",
    "          'TCurrHP': '',\n",
    "          'TMoveset': [],\n",
    "          }"
   ]
  },
  {
   "cell_type": "code",
   "execution_count": null,
   "metadata": {
    "collapsed": true
   },
   "outputs": [],
   "source": []
  },
  {
   "cell_type": "code",
   "execution_count": null,
   "metadata": {
    "collapsed": true
   },
   "outputs": [],
   "source": []
  },
  {
   "cell_type": "code",
   "execution_count": null,
   "metadata": {
    "collapsed": true
   },
   "outputs": [],
   "source": []
  },
  {
   "cell_type": "code",
   "execution_count": null,
   "metadata": {
    "collapsed": true
   },
   "outputs": [],
   "source": []
  },
  {
   "cell_type": "code",
   "execution_count": null,
   "metadata": {
    "collapsed": true
   },
   "outputs": [],
   "source": []
  },
  {
   "cell_type": "code",
   "execution_count": null,
   "metadata": {
    "collapsed": true
   },
   "outputs": [],
   "source": []
  },
  {
   "cell_type": "code",
   "execution_count": null,
   "metadata": {
    "collapsed": true
   },
   "outputs": [],
   "source": []
  }
 ],
 "metadata": {
  "kernelspec": {
   "display_name": "Python 3",
   "language": "python",
   "name": "python3"
  },
  "language_info": {
   "codemirror_mode": {
    "name": "ipython",
    "version": 3
   },
   "file_extension": ".py",
   "mimetype": "text/x-python",
   "name": "python",
   "nbconvert_exporter": "python",
   "pygments_lexer": "ipython3",
   "version": "3.6.5"
  }
 },
 "nbformat": 4,
 "nbformat_minor": 2
}
